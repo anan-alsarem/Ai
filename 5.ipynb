{
 "cells": [
  {
   "cell_type": "code",
   "execution_count": null,
   "metadata": {},
   "outputs": [
    {
     "name": "stdout",
     "output_type": "stream",
     "text": [
      "Data:\n",
      "     Gender  Age  Salary  Purchase Iphone\n",
      "0      Male   19   19000                0\n",
      "1      Male   35   20000                0\n",
      "2    Female   26   43000                0\n",
      "3    Female   27   57000                0\n",
      "4      Male   19   76000                0\n",
      "..      ...  ...     ...              ...\n",
      "395  Female   46   41000                1\n",
      "396    Male   51   23000                1\n",
      "397  Female   50   20000                1\n",
      "398    Male   36   33000                0\n",
      "399  Female   49   36000                1\n",
      "\n",
      "[400 rows x 4 columns]\n"
     ]
    }
   ],
   "source": [
    "import pandas as pd\n",
    "from sklearn.model_selection import train_test_split\n",
    "from sklearn.svm import SVC\n",
    "import matplotlib.pyplot as plt\n",
    "import numpy as np\n",
    "\n",
    "# قراءة البيانات من ملف CSV\n",
    "data = pd.read_csv('phone.csv')\n",
    "\n",
    "# عرض البيانات\n",
    "print(\"Data:\")\n",
    "print(data)\n",
    "\n",
    "# فصل الميزات (features) والهدف (target)\n",
    "X = data[['Age', 'Salary']]  # الميزات (Independent Variables)\n",
    "y = data['Gender']                    # الهدف (Dependent Variable)\n",
    "\n",
    "# تقسيم البيانات إلى مجموعة تدريب (Train) ومجموعة اختبار (Test)\n",
    "X_train, X_test, y_train, y_test = train_test_split(X, y, test_size=0.2, random_state=42)\n",
    "\n",
    "# إنشاء نموذج SVM\n",
    "model = SVC(kernel='linear')\n",
    "\n",
    "# تدريب النموذج\n",
    "model.fit(X_train, y_train)\n",
    "\n",
    "# إجراء التنبؤات\n",
    "predictions = model.predict(X_test)\n",
    "\n",
    "# عرض النتائج\n",
    "print(\"\\nPredictions:\")\n",
    "for i in range(len(X_test)):\n",
    "    print(f\"Input: {X_test.values[i]}, Predicted: {predictions[i]}\")\n",
    "\n",
    "# حساب دقة النموذج\n",
    "accuracy = model.score(X_test, y_test)\n",
    "print(f\"\\nModel Accuracy: {accuracy * 100:.2f}%\")\n",
    "\n",
    "# رسم النتائج\n",
    "plt.figure(figsize=(10, 6))\n",
    "\n",
    "# رسم البيانات الأصلية\n",
    "plt.scatter(data['Gender'], data['Salary'], c=data['label'].apply(lambda x: 0 if x == 'A' else 1), cmap='coolwarm', edgecolor='k', s=100)\n",
    "\n",
    "# رسم حدود القرار\n",
    "xlim = plt.gca().get_xlim()\n",
    "ylim = plt.gca().get_ylim()\n",
    "\n",
    "# إنشاء شبكة من النقاط لتوقع القيم\n",
    "xx, yy = np.meshgrid(np.linspace(xlim[0], xlim[1], 100), \n",
    "                     np.linspace(ylim[0], ylim[1], 100))\n",
    "\n",
    "Z = model.decision_function(np.c_[xx.ravel(), yy.ravel()])\n",
    "Z = Z.reshape(xx.shape)\n",
    "\n",
    "# رسم حدود القرار\n",
    "plt.contourf(xx, yy, Z > 0, alpha=0.3, cmap='coolwarm')\n",
    "\n",
    "plt.title(\"SVC Decision Boundary\")\n",
    "plt.xlabel(\"Age\")\n",
    "plt.ylabel(\"Salary\")\n",
    "plt.scatter(X_train['Age'], X_train['Salary'], marker='o', color='orange', label='Training Data')\n",
    "plt.scatter(X_test['Age'], X_test['Salary'], marker='x', color='red', label='Test Data')\n",
    "plt.legend()\n",
    "plt.show()"
   ]
  },
  {
   "cell_type": "code",
   "execution_count": null,
   "metadata": {},
   "outputs": [],
   "source": [
    "import pandas as pd\n",
    "dataset = pd.read_csv(\"iphone_purchase_records.csv\")\n",
    "X = dataset.iloc[:,:-1].values\n",
    "y = dataset.iloc[:, 3].values"
   ]
  },
  {
   "cell_type": "code",
   "execution_count": null,
   "metadata": {},
   "outputs": [],
   "source": [
    "from sklearn.preprocessing import LabelEncoder\n",
    "labelEncoder_gender =  LabelEncoder()\n",
    "X[:,0] = labelEncoder_gender.fit_transform(X[:,0])"
   ]
  },
  {
   "cell_type": "code",
   "execution_count": null,
   "metadata": {},
   "outputs": [],
   "source": [
    "import numpy as np\n",
    "X = np.vstack(X[:, :]).astype(np.float)"
   ]
  },
  {
   "cell_type": "code",
   "execution_count": null,
   "metadata": {},
   "outputs": [],
   "source": [
    "from sklearn.model_selection import train_test_split\n",
    "X_train, X_test, y_train, y_test = train_test_split(X, y, test_size=0.25, random_state=0)"
   ]
  },
  {
   "cell_type": "code",
   "execution_count": null,
   "metadata": {},
   "outputs": [],
   "source": [
    "from sklearn.preprocessing import StandardScaler\n",
    "ss_X = StandardScaler()\n",
    "X_train = ss_X.fit_transform(X_train)\n",
    "X_test = ss_X.transform(X_test)"
   ]
  },
  {
   "cell_type": "code",
   "execution_count": null,
   "metadata": {},
   "outputs": [],
   "source": [
    "from sklearn.svm import SVC\n",
    "classifier = SVC(kernel = \"linear\", random_state=0)\n",
    "classifier.fit(X_train, y_train)"
   ]
  },
  {
   "cell_type": "code",
   "execution_count": null,
   "metadata": {},
   "outputs": [],
   "source": [
    "y_pred = classifier.predict(X_test)"
   ]
  },
  {
   "cell_type": "code",
   "execution_count": null,
   "metadata": {},
   "outputs": [],
   "source": [
    "from sklearn import metrics\n",
    "cm = metrics.confusion_matrix(y_test, y_pred) \n",
    "print(cm)\n",
    "accuracy = metrics.accuracy_score(y_test, y_pred) \n",
    "print(\"Accuracy score:\",accuracy)\n",
    "precision = metrics.precision_score(y_test, y_pred) \n",
    "print(\"Precision score:\",precision)\n",
    "recall = metrics.recall_score(y_test, y_pred) \n",
    "print(\"Recall score:\",recall)"
   ]
  },
  {
   "cell_type": "code",
   "execution_count": null,
   "metadata": {},
   "outputs": [],
   "source": []
  }
 ],
 "metadata": {
  "kernelspec": {
   "display_name": "Python 3 (ipykernel)",
   "language": "python",
   "name": "python3"
  },
  "language_info": {
   "codemirror_mode": {
    "name": "ipython",
    "version": 3
   },
   "file_extension": ".py",
   "mimetype": "text/x-python",
   "name": "python",
   "nbconvert_exporter": "python",
   "pygments_lexer": "ipython3",
   "version": "3.10.9"
  }
 },
 "nbformat": 4,
 "nbformat_minor": 4
}
